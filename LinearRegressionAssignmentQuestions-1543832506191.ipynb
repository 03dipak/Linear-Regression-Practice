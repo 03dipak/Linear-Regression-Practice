{
  "nbformat": 4,
  "nbformat_minor": 0,
  "metadata": {
    "kernelspec": {
      "display_name": "Python 3",
      "language": "python",
      "name": "python3"
    },
    "language_info": {
      "codemirror_mode": {
        "name": "ipython",
        "version": 3
      },
      "file_extension": ".py",
      "mimetype": "text/x-python",
      "name": "python",
      "nbconvert_exporter": "python",
      "pygments_lexer": "ipython3",
      "version": "3.7.0"
    },
    "colab": {
      "name": "LinearRegressionAssignmentQuestions-1543832506191.ipynb",
      "provenance": [],
      "include_colab_link": true
    }
  },
  "cells": [
    {
      "cell_type": "markdown",
      "metadata": {
        "id": "view-in-github",
        "colab_type": "text"
      },
      "source": [
        "<a href=\"https://colab.research.google.com/github/03dipak/Linear-Regression-Practice/blob/master/LinearRegressionAssignmentQuestions-1543832506191.ipynb\" target=\"_parent\"><img src=\"https://colab.research.google.com/assets/colab-badge.svg\" alt=\"Open In Colab\"/></a>"
      ]
    },
    {
      "cell_type": "markdown",
      "metadata": {
        "id": "8bZ0a9A6osuh",
        "colab_type": "text"
      },
      "source": [
        "<img src=\"https://github.com/insaid2018/Term-1/blob/master/Images/INSAID_Full%20Logo.png?raw=true\" width=\"240\" height=\"360\" />\n",
        "\n",
        "# ASSIGNMENT\n",
        "\n",
        "###  This is a cars dataset having 156 observation and 16 different variables. You have to create a linear regression model using the provided predictor variables for the prediction of sales value of cars.\n",
        "\n",
        "#### Note: Please run your code step by step as provided in the sheet or else you may face challenges with the code."
      ]
    },
    {
      "cell_type": "markdown",
      "metadata": {
        "id": "KpC8Xks3osun",
        "colab_type": "text"
      },
      "source": [
        "### Import the dataset."
      ]
    },
    {
      "cell_type": "code",
      "metadata": {
        "id": "6Mikkqm7ZiGx",
        "colab_type": "code",
        "colab": {}
      },
      "source": [
        "import pandas as pd"
      ],
      "execution_count": 0,
      "outputs": []
    },
    {
      "cell_type": "code",
      "metadata": {
        "scrolled": true,
        "id": "UXAW0l1fosuq",
        "colab_type": "code",
        "outputId": "34ba4c6f-68af-4c48-9028-d48ecf33230e",
        "colab": {
          "base_uri": "https://localhost:8080/",
          "height": 224
        }
      },
      "source": [
        "import pandas as pd\n",
        "car = pd.read_csv(\"https://raw.githubusercontent.com/insaid2018/Term-2/master/Data/car_sales.csv\")\n",
        "car.head()"
      ],
      "execution_count": 3,
      "outputs": [
        {
          "output_type": "execute_result",
          "data": {
            "text/html": [
              "<div>\n",
              "<style scoped>\n",
              "    .dataframe tbody tr th:only-of-type {\n",
              "        vertical-align: middle;\n",
              "    }\n",
              "\n",
              "    .dataframe tbody tr th {\n",
              "        vertical-align: top;\n",
              "    }\n",
              "\n",
              "    .dataframe thead th {\n",
              "        text-align: right;\n",
              "    }\n",
              "</style>\n",
              "<table border=\"1\" class=\"dataframe\">\n",
              "  <thead>\n",
              "    <tr style=\"text-align: right;\">\n",
              "      <th></th>\n",
              "      <th>Manufacturer</th>\n",
              "      <th>Model</th>\n",
              "      <th>Sales_in_thousands</th>\n",
              "      <th>_year_resale_value</th>\n",
              "      <th>Vehicle_type</th>\n",
              "      <th>Price_in_thousands</th>\n",
              "      <th>Engine_size</th>\n",
              "      <th>Horsepower</th>\n",
              "      <th>Wheelbase</th>\n",
              "      <th>Width</th>\n",
              "      <th>Length</th>\n",
              "      <th>Curb_weight</th>\n",
              "      <th>Fuel_capacity</th>\n",
              "      <th>Fuel_efficiency</th>\n",
              "      <th>Latest_Launch</th>\n",
              "      <th>Power_perf_factor</th>\n",
              "    </tr>\n",
              "  </thead>\n",
              "  <tbody>\n",
              "    <tr>\n",
              "      <th>0</th>\n",
              "      <td>Acura</td>\n",
              "      <td>Integra</td>\n",
              "      <td>16.919</td>\n",
              "      <td>16.360</td>\n",
              "      <td>Passenger</td>\n",
              "      <td>21.50</td>\n",
              "      <td>1.8</td>\n",
              "      <td>140</td>\n",
              "      <td>101.2</td>\n",
              "      <td>67.3</td>\n",
              "      <td>172.4</td>\n",
              "      <td>2.639</td>\n",
              "      <td>13.2</td>\n",
              "      <td>28</td>\n",
              "      <td>2/2/2012</td>\n",
              "      <td>58.280150</td>\n",
              "    </tr>\n",
              "    <tr>\n",
              "      <th>1</th>\n",
              "      <td>Acura</td>\n",
              "      <td>TL</td>\n",
              "      <td>39.384</td>\n",
              "      <td>19.875</td>\n",
              "      <td>Passenger</td>\n",
              "      <td>28.40</td>\n",
              "      <td>3.2</td>\n",
              "      <td>225</td>\n",
              "      <td>108.1</td>\n",
              "      <td>70.3</td>\n",
              "      <td>192.9</td>\n",
              "      <td>3.517</td>\n",
              "      <td>17.2</td>\n",
              "      <td>25</td>\n",
              "      <td>6/3/2011</td>\n",
              "      <td>91.370778</td>\n",
              "    </tr>\n",
              "    <tr>\n",
              "      <th>2</th>\n",
              "      <td>Acura</td>\n",
              "      <td>CL</td>\n",
              "      <td>14.114</td>\n",
              "      <td>18.225</td>\n",
              "      <td>Passenger</td>\n",
              "      <td>29.00</td>\n",
              "      <td>3.2</td>\n",
              "      <td>225</td>\n",
              "      <td>106.9</td>\n",
              "      <td>70.6</td>\n",
              "      <td>192.0</td>\n",
              "      <td>3.470</td>\n",
              "      <td>17.2</td>\n",
              "      <td>26</td>\n",
              "      <td>1/4/2012</td>\n",
              "      <td>90.345000</td>\n",
              "    </tr>\n",
              "    <tr>\n",
              "      <th>3</th>\n",
              "      <td>Acura</td>\n",
              "      <td>RL</td>\n",
              "      <td>8.588</td>\n",
              "      <td>29.725</td>\n",
              "      <td>Passenger</td>\n",
              "      <td>42.00</td>\n",
              "      <td>3.5</td>\n",
              "      <td>210</td>\n",
              "      <td>114.6</td>\n",
              "      <td>71.4</td>\n",
              "      <td>196.6</td>\n",
              "      <td>3.850</td>\n",
              "      <td>18.0</td>\n",
              "      <td>22</td>\n",
              "      <td>3/10/2011</td>\n",
              "      <td>91.389779</td>\n",
              "    </tr>\n",
              "    <tr>\n",
              "      <th>4</th>\n",
              "      <td>Audi</td>\n",
              "      <td>A4</td>\n",
              "      <td>20.397</td>\n",
              "      <td>22.255</td>\n",
              "      <td>Passenger</td>\n",
              "      <td>23.99</td>\n",
              "      <td>1.8</td>\n",
              "      <td>150</td>\n",
              "      <td>102.6</td>\n",
              "      <td>68.2</td>\n",
              "      <td>178.0</td>\n",
              "      <td>2.998</td>\n",
              "      <td>16.4</td>\n",
              "      <td>27</td>\n",
              "      <td>10/8/2011</td>\n",
              "      <td>62.777639</td>\n",
              "    </tr>\n",
              "  </tbody>\n",
              "</table>\n",
              "</div>"
            ],
            "text/plain": [
              "  Manufacturer    Model  ...  Latest_Launch  Power_perf_factor\n",
              "0        Acura  Integra  ...       2/2/2012          58.280150\n",
              "1        Acura       TL  ...       6/3/2011          91.370778\n",
              "2        Acura       CL  ...       1/4/2012          90.345000\n",
              "3        Acura       RL  ...      3/10/2011          91.389779\n",
              "4         Audi       A4  ...      10/8/2011          62.777639\n",
              "\n",
              "[5 rows x 16 columns]"
            ]
          },
          "metadata": {
            "tags": []
          },
          "execution_count": 3
        }
      ]
    },
    {
      "cell_type": "markdown",
      "metadata": {
        "id": "vSlDLEDmosu0",
        "colab_type": "text"
      },
      "source": [
        "### Check the shape of the dataset."
      ]
    },
    {
      "cell_type": "code",
      "metadata": {
        "id": "MbDh2V-zosu3",
        "colab_type": "code",
        "outputId": "7dc1844f-3f4a-4d19-e0ad-71ad8cd007ce",
        "colab": {
          "base_uri": "https://localhost:8080/",
          "height": 34
        }
      },
      "source": [
        "def lr():\n",
        "    return car.shape \n",
        "lr()"
      ],
      "execution_count": 8,
      "outputs": [
        {
          "output_type": "execute_result",
          "data": {
            "text/plain": [
              "(156, 16)"
            ]
          },
          "metadata": {
            "tags": []
          },
          "execution_count": 8
        }
      ]
    },
    {
      "cell_type": "markdown",
      "metadata": {
        "id": "ZMtpsyqKosu9",
        "colab_type": "text"
      },
      "source": [
        "### Check the descriptive stats of the dataset."
      ]
    },
    {
      "cell_type": "code",
      "metadata": {
        "id": "DdB1i3QVosu_",
        "colab_type": "code",
        "outputId": "bb8caada-24d0-409b-e26d-ff71bbb7fa41",
        "colab": {
          "base_uri": "https://localhost:8080/",
          "height": 317
        }
      },
      "source": [
        "def lr():\n",
        "    return car.describe()\n",
        "lr()"
      ],
      "execution_count": 9,
      "outputs": [
        {
          "output_type": "execute_result",
          "data": {
            "text/html": [
              "<div>\n",
              "<style scoped>\n",
              "    .dataframe tbody tr th:only-of-type {\n",
              "        vertical-align: middle;\n",
              "    }\n",
              "\n",
              "    .dataframe tbody tr th {\n",
              "        vertical-align: top;\n",
              "    }\n",
              "\n",
              "    .dataframe thead th {\n",
              "        text-align: right;\n",
              "    }\n",
              "</style>\n",
              "<table border=\"1\" class=\"dataframe\">\n",
              "  <thead>\n",
              "    <tr style=\"text-align: right;\">\n",
              "      <th></th>\n",
              "      <th>Sales_in_thousands</th>\n",
              "      <th>_year_resale_value</th>\n",
              "      <th>Price_in_thousands</th>\n",
              "      <th>Engine_size</th>\n",
              "      <th>Horsepower</th>\n",
              "      <th>Wheelbase</th>\n",
              "      <th>Width</th>\n",
              "      <th>Length</th>\n",
              "      <th>Curb_weight</th>\n",
              "      <th>Fuel_capacity</th>\n",
              "      <th>Fuel_efficiency</th>\n",
              "      <th>Power_perf_factor</th>\n",
              "    </tr>\n",
              "  </thead>\n",
              "  <tbody>\n",
              "    <tr>\n",
              "      <th>count</th>\n",
              "      <td>151.000000</td>\n",
              "      <td>156.000000</td>\n",
              "      <td>156.000000</td>\n",
              "      <td>156.000000</td>\n",
              "      <td>156.000000</td>\n",
              "      <td>156.000000</td>\n",
              "      <td>156.000000</td>\n",
              "      <td>156.000000</td>\n",
              "      <td>156.000000</td>\n",
              "      <td>156.000000</td>\n",
              "      <td>156.000000</td>\n",
              "      <td>156.000000</td>\n",
              "    </tr>\n",
              "    <tr>\n",
              "      <th>mean</th>\n",
              "      <td>52.051742</td>\n",
              "      <td>18.063571</td>\n",
              "      <td>27.401071</td>\n",
              "      <td>3.060897</td>\n",
              "      <td>185.948718</td>\n",
              "      <td>107.487179</td>\n",
              "      <td>71.150000</td>\n",
              "      <td>187.343590</td>\n",
              "      <td>3.380462</td>\n",
              "      <td>17.951923</td>\n",
              "      <td>23.833333</td>\n",
              "      <td>77.128857</td>\n",
              "    </tr>\n",
              "    <tr>\n",
              "      <th>std</th>\n",
              "      <td>68.907116</td>\n",
              "      <td>10.076941</td>\n",
              "      <td>14.305863</td>\n",
              "      <td>1.044653</td>\n",
              "      <td>56.700321</td>\n",
              "      <td>7.641303</td>\n",
              "      <td>3.451872</td>\n",
              "      <td>13.431754</td>\n",
              "      <td>0.629200</td>\n",
              "      <td>3.887921</td>\n",
              "      <td>4.256052</td>\n",
              "      <td>25.084045</td>\n",
              "    </tr>\n",
              "    <tr>\n",
              "      <th>min</th>\n",
              "      <td>0.110000</td>\n",
              "      <td>5.160000</td>\n",
              "      <td>9.235000</td>\n",
              "      <td>1.000000</td>\n",
              "      <td>55.000000</td>\n",
              "      <td>92.600000</td>\n",
              "      <td>62.600000</td>\n",
              "      <td>149.400000</td>\n",
              "      <td>1.895000</td>\n",
              "      <td>10.300000</td>\n",
              "      <td>15.000000</td>\n",
              "      <td>23.276272</td>\n",
              "    </tr>\n",
              "    <tr>\n",
              "      <th>25%</th>\n",
              "      <td>13.630000</td>\n",
              "      <td>12.527500</td>\n",
              "      <td>18.081250</td>\n",
              "      <td>2.300000</td>\n",
              "      <td>149.500000</td>\n",
              "      <td>103.000000</td>\n",
              "      <td>68.400000</td>\n",
              "      <td>177.575000</td>\n",
              "      <td>2.973000</td>\n",
              "      <td>15.800000</td>\n",
              "      <td>21.000000</td>\n",
              "      <td>60.567577</td>\n",
              "    </tr>\n",
              "    <tr>\n",
              "      <th>50%</th>\n",
              "      <td>27.609000</td>\n",
              "      <td>17.617500</td>\n",
              "      <td>23.099500</td>\n",
              "      <td>3.000000</td>\n",
              "      <td>177.500000</td>\n",
              "      <td>107.000000</td>\n",
              "      <td>70.550000</td>\n",
              "      <td>187.900000</td>\n",
              "      <td>3.355000</td>\n",
              "      <td>17.200000</td>\n",
              "      <td>24.000000</td>\n",
              "      <td>72.160636</td>\n",
              "    </tr>\n",
              "    <tr>\n",
              "      <th>75%</th>\n",
              "      <td>65.905500</td>\n",
              "      <td>18.089731</td>\n",
              "      <td>31.938750</td>\n",
              "      <td>3.575000</td>\n",
              "      <td>215.000000</td>\n",
              "      <td>112.200000</td>\n",
              "      <td>73.425000</td>\n",
              "      <td>196.125000</td>\n",
              "      <td>3.788750</td>\n",
              "      <td>19.575000</td>\n",
              "      <td>26.000000</td>\n",
              "      <td>89.623790</td>\n",
              "    </tr>\n",
              "    <tr>\n",
              "      <th>max</th>\n",
              "      <td>540.561000</td>\n",
              "      <td>67.550000</td>\n",
              "      <td>85.500000</td>\n",
              "      <td>8.000000</td>\n",
              "      <td>450.000000</td>\n",
              "      <td>138.700000</td>\n",
              "      <td>79.900000</td>\n",
              "      <td>224.500000</td>\n",
              "      <td>5.572000</td>\n",
              "      <td>32.000000</td>\n",
              "      <td>45.000000</td>\n",
              "      <td>188.144323</td>\n",
              "    </tr>\n",
              "  </tbody>\n",
              "</table>\n",
              "</div>"
            ],
            "text/plain": [
              "       Sales_in_thousands  ...  Power_perf_factor\n",
              "count          151.000000  ...         156.000000\n",
              "mean            52.051742  ...          77.128857\n",
              "std             68.907116  ...          25.084045\n",
              "min              0.110000  ...          23.276272\n",
              "25%             13.630000  ...          60.567577\n",
              "50%             27.609000  ...          72.160636\n",
              "75%             65.905500  ...          89.623790\n",
              "max            540.561000  ...         188.144323\n",
              "\n",
              "[8 rows x 12 columns]"
            ]
          },
          "metadata": {
            "tags": []
          },
          "execution_count": 9
        }
      ]
    },
    {
      "cell_type": "markdown",
      "metadata": {
        "id": "uFfDAA9kosvG",
        "colab_type": "text"
      },
      "source": [
        "### Q 1. Write a code to understand the total count and percentage of missing values."
      ]
    },
    {
      "cell_type": "code",
      "metadata": {
        "id": "RzBTA82dosvI",
        "colab_type": "code",
        "outputId": "0ea544ce-1852-4b47-ecf1-485713c4e6b6",
        "colab": {
          "base_uri": "https://localhost:8080/",
          "height": 545
        }
      },
      "source": [
        "def lr():\n",
        "    # Count total missing and sort it \n",
        "    # Calucalte percent \n",
        "    # concatenate total and percent \n",
        "    # print missing data assigning a varibale\n",
        "    # return using your created variable\n",
        "    total = car.isnull().count()\n",
        "    percent = car.isnull().sum()/car.isnull().count()*100\n",
        "    miss = pd.concat([total,percent],axis=1,keys=['total','percent']) \n",
        "    #print(car.isnull().sum())\n",
        "    #print(car.isnull().count())\n",
        "    #print(car['Sales_in_thousands'].value_counts())\n",
        "    return miss\n",
        "lr()"
      ],
      "execution_count": 10,
      "outputs": [
        {
          "output_type": "execute_result",
          "data": {
            "text/html": [
              "<div>\n",
              "<style scoped>\n",
              "    .dataframe tbody tr th:only-of-type {\n",
              "        vertical-align: middle;\n",
              "    }\n",
              "\n",
              "    .dataframe tbody tr th {\n",
              "        vertical-align: top;\n",
              "    }\n",
              "\n",
              "    .dataframe thead th {\n",
              "        text-align: right;\n",
              "    }\n",
              "</style>\n",
              "<table border=\"1\" class=\"dataframe\">\n",
              "  <thead>\n",
              "    <tr style=\"text-align: right;\">\n",
              "      <th></th>\n",
              "      <th>total</th>\n",
              "      <th>percent</th>\n",
              "    </tr>\n",
              "  </thead>\n",
              "  <tbody>\n",
              "    <tr>\n",
              "      <th>Manufacturer</th>\n",
              "      <td>156</td>\n",
              "      <td>0.000000</td>\n",
              "    </tr>\n",
              "    <tr>\n",
              "      <th>Model</th>\n",
              "      <td>156</td>\n",
              "      <td>0.000000</td>\n",
              "    </tr>\n",
              "    <tr>\n",
              "      <th>Sales_in_thousands</th>\n",
              "      <td>156</td>\n",
              "      <td>3.205128</td>\n",
              "    </tr>\n",
              "    <tr>\n",
              "      <th>_year_resale_value</th>\n",
              "      <td>156</td>\n",
              "      <td>0.000000</td>\n",
              "    </tr>\n",
              "    <tr>\n",
              "      <th>Vehicle_type</th>\n",
              "      <td>156</td>\n",
              "      <td>0.000000</td>\n",
              "    </tr>\n",
              "    <tr>\n",
              "      <th>Price_in_thousands</th>\n",
              "      <td>156</td>\n",
              "      <td>0.000000</td>\n",
              "    </tr>\n",
              "    <tr>\n",
              "      <th>Engine_size</th>\n",
              "      <td>156</td>\n",
              "      <td>0.000000</td>\n",
              "    </tr>\n",
              "    <tr>\n",
              "      <th>Horsepower</th>\n",
              "      <td>156</td>\n",
              "      <td>0.000000</td>\n",
              "    </tr>\n",
              "    <tr>\n",
              "      <th>Wheelbase</th>\n",
              "      <td>156</td>\n",
              "      <td>0.000000</td>\n",
              "    </tr>\n",
              "    <tr>\n",
              "      <th>Width</th>\n",
              "      <td>156</td>\n",
              "      <td>0.000000</td>\n",
              "    </tr>\n",
              "    <tr>\n",
              "      <th>Length</th>\n",
              "      <td>156</td>\n",
              "      <td>0.000000</td>\n",
              "    </tr>\n",
              "    <tr>\n",
              "      <th>Curb_weight</th>\n",
              "      <td>156</td>\n",
              "      <td>0.000000</td>\n",
              "    </tr>\n",
              "    <tr>\n",
              "      <th>Fuel_capacity</th>\n",
              "      <td>156</td>\n",
              "      <td>0.000000</td>\n",
              "    </tr>\n",
              "    <tr>\n",
              "      <th>Fuel_efficiency</th>\n",
              "      <td>156</td>\n",
              "      <td>0.000000</td>\n",
              "    </tr>\n",
              "    <tr>\n",
              "      <th>Latest_Launch</th>\n",
              "      <td>156</td>\n",
              "      <td>0.000000</td>\n",
              "    </tr>\n",
              "    <tr>\n",
              "      <th>Power_perf_factor</th>\n",
              "      <td>156</td>\n",
              "      <td>0.000000</td>\n",
              "    </tr>\n",
              "  </tbody>\n",
              "</table>\n",
              "</div>"
            ],
            "text/plain": [
              "                    total   percent\n",
              "Manufacturer          156  0.000000\n",
              "Model                 156  0.000000\n",
              "Sales_in_thousands    156  3.205128\n",
              "_year_resale_value    156  0.000000\n",
              "Vehicle_type          156  0.000000\n",
              "Price_in_thousands    156  0.000000\n",
              "Engine_size           156  0.000000\n",
              "Horsepower            156  0.000000\n",
              "Wheelbase             156  0.000000\n",
              "Width                 156  0.000000\n",
              "Length                156  0.000000\n",
              "Curb_weight           156  0.000000\n",
              "Fuel_capacity         156  0.000000\n",
              "Fuel_efficiency       156  0.000000\n",
              "Latest_Launch         156  0.000000\n",
              "Power_perf_factor     156  0.000000"
            ]
          },
          "metadata": {
            "tags": []
          },
          "execution_count": 10
        }
      ]
    },
    {
      "cell_type": "markdown",
      "metadata": {
        "id": "l9pkWZ8QosvQ",
        "colab_type": "text"
      },
      "source": [
        "### Q 2. Impute the missing value using \"median\" groupby Manufacturer. "
      ]
    },
    {
      "cell_type": "code",
      "metadata": {
        "id": "eee4iVxnosvS",
        "colab_type": "code",
        "outputId": "411d1d88-04b9-483b-99ae-037d14bb1378",
        "colab": {
          "base_uri": "https://localhost:8080/",
          "height": 306
        }
      },
      "source": [
        "\n",
        "def lr(): \n",
        "    car['Sales_in_thousands'].fillna(value=(car.groupby('Manufacturer')['Sales_in_thousands'].transform('median')),inplace=True)\n",
        "    # your code here to impute missing value using median and groupby\n",
        "    return\n",
        "lr()\n",
        "#print(car.groupby('Manufacturer').median()[['Sales_in_thousands']])\n",
        "print (car.isnull().sum())"
      ],
      "execution_count": 4,
      "outputs": [
        {
          "output_type": "stream",
          "text": [
            "Manufacturer          0\n",
            "Model                 0\n",
            "Sales_in_thousands    0\n",
            "_year_resale_value    0\n",
            "Vehicle_type          0\n",
            "Price_in_thousands    0\n",
            "Engine_size           0\n",
            "Horsepower            0\n",
            "Wheelbase             0\n",
            "Width                 0\n",
            "Length                0\n",
            "Curb_weight           0\n",
            "Fuel_capacity         0\n",
            "Fuel_efficiency       0\n",
            "Latest_Launch         0\n",
            "Power_perf_factor     0\n",
            "dtype: int64\n"
          ],
          "name": "stdout"
        }
      ]
    },
    {
      "cell_type": "markdown",
      "metadata": {
        "id": "ejMwICFQosvX",
        "colab_type": "text"
      },
      "source": [
        "### Q 3. Create a dummy variable for \"Vehicle_type\"  and  drop the original variable."
      ]
    },
    {
      "cell_type": "code",
      "metadata": {
        "id": "S3kJYwgzosvZ",
        "colab_type": "code",
        "outputId": "21f96c2e-68e5-4914-bdac-97fe56588dc9",
        "colab": {
          "base_uri": "https://localhost:8080/",
          "height": 187
        }
      },
      "source": [
        "car_dummy =pd.DataFrame()                                                           # Creating an empty data frame\n",
        "def lr(car):\n",
        "    dummies = pd.get_dummies(car, columns=['Vehicle_type'], drop_first=True)\n",
        "    return dummies\n",
        "    # your code to create dummies\n",
        "    return #your created variable\n",
        "car_dummy = lr(car)\n",
        "print(car_dummy.columns)\n",
        "print(car.columns)"
      ],
      "execution_count": 5,
      "outputs": [
        {
          "output_type": "stream",
          "text": [
            "Index(['Manufacturer', 'Model', 'Sales_in_thousands', '_year_resale_value',\n",
            "       'Price_in_thousands', 'Engine_size', 'Horsepower', 'Wheelbase', 'Width',\n",
            "       'Length', 'Curb_weight', 'Fuel_capacity', 'Fuel_efficiency',\n",
            "       'Latest_Launch', 'Power_perf_factor', 'Vehicle_type_Passenger'],\n",
            "      dtype='object')\n",
            "Index(['Manufacturer', 'Model', 'Sales_in_thousands', '_year_resale_value',\n",
            "       'Vehicle_type', 'Price_in_thousands', 'Engine_size', 'Horsepower',\n",
            "       'Wheelbase', 'Width', 'Length', 'Curb_weight', 'Fuel_capacity',\n",
            "       'Fuel_efficiency', 'Latest_Launch', 'Power_perf_factor'],\n",
            "      dtype='object')\n"
          ],
          "name": "stdout"
        }
      ]
    },
    {
      "cell_type": "markdown",
      "metadata": {
        "id": "WLXKzd8_osvd",
        "colab_type": "text"
      },
      "source": [
        "### Q 4. Drop the below mentioned variables which will not help in prediction of sales.\n",
        "``` ['Manufacturer', 'Model', 'Latest_Launch'] ```"
      ]
    },
    {
      "cell_type": "code",
      "metadata": {
        "id": "N0OOPXz_osvf",
        "colab_type": "code",
        "outputId": "fb2693e5-a6ad-470d-a2b1-6ca7adeed7ff",
        "colab": {
          "base_uri": "https://localhost:8080/",
          "height": 255
        }
      },
      "source": [
        "def lr(car_dummy):\n",
        "    # your code to drop the useless variables\n",
        "    #car_dummy.drop(columns=['Manufacturer', 'Model', 'Latest_Launch'])\n",
        "    return car_dummy.drop(columns=['Manufacturer', 'Model', 'Latest_Launch'])# your created variable\n",
        "car_dummy = lr(car_dummy)\n",
        "print (car_dummy)"
      ],
      "execution_count": 6,
      "outputs": [
        {
          "output_type": "stream",
          "text": [
            "     Sales_in_thousands  ...  Vehicle_type_Passenger\n",
            "0                16.919  ...                       1\n",
            "1                39.384  ...                       1\n",
            "2                14.114  ...                       1\n",
            "3                 8.588  ...                       1\n",
            "4                20.397  ...                       1\n",
            "..                  ...  ...                     ...\n",
            "151               3.545  ...                       1\n",
            "152              15.245  ...                       1\n",
            "153              17.531  ...                       1\n",
            "154               3.493  ...                       1\n",
            "155              18.969  ...                       1\n",
            "\n",
            "[156 rows x 13 columns]\n"
          ],
          "name": "stdout"
        }
      ]
    },
    {
      "cell_type": "markdown",
      "metadata": {
        "id": "mUATG_gXosvj",
        "colab_type": "text"
      },
      "source": [
        "### Check for outliers using Box Plot"
      ]
    },
    {
      "cell_type": "code",
      "metadata": {
        "id": "PVX-piHKosvl",
        "colab_type": "code",
        "outputId": "523855c4-4f2d-48c8-97e2-3e0d0d47c181",
        "colab": {
          "base_uri": "https://localhost:8080/",
          "height": 265
        }
      },
      "source": [
        "def lr():\n",
        "    import seaborn as sns\n",
        "    sns.boxplot(data=car_dummy, orient=\"h\", palette=\"Set2\")\n",
        "    return None \n",
        "lr()"
      ],
      "execution_count": 0,
      "outputs": [
        {
          "output_type": "display_data",
          "data": {
            "image/png": "[encoded data removed]",
            "text/plain": [
              "<Figure size 432x288 with 1 Axes>"
            ]
          },
          "metadata": {
            "tags": []
          }
        }
      ]
    },
    {
      "cell_type": "markdown",
      "metadata": {
        "id": "Fpdj9eYrosvq",
        "colab_type": "text"
      },
      "source": [
        "### Q 5. Calculate the Inter quantile range and then drop off outliers for quantile values outside 5 to 95 range."
      ]
    },
    {
      "cell_type": "code",
      "metadata": {
        "id": "uOFWj_gqosvr",
        "colab_type": "code",
        "outputId": "3f8b87ce-73f1-436e-dec1-9f414649d5af",
        "colab": {
          "base_uri": "https://localhost:8080/",
          "height": 255
        }
      },
      "source": [
        "def lr(car_dummy):\n",
        "    import pandas as pd\n",
        "    # Calculate Q1 value using quantile(0.05)\n",
        "    # Calculate Q3 value using quantile value (0.95)\n",
        "    # Calculate Inter Quartile Range\n",
        "    # create a variable and check for outliers and drop them off\n",
        "    Q1 = car_dummy.quantile(0.05)\n",
        "    Q3 = car_dummy.quantile(0.95)\n",
        "    Q_dif = Q3 - Q1\n",
        "    out = car_dummy[~(( car_dummy < (Q1 - Q_dif))) | ((car_dummy > (Q3 + Q_dif) ))]\n",
        "    return out# your created variable\n",
        "car_dummy = lr(car_dummy)\n",
        "print (car_dummy)"
      ],
      "execution_count": 14,
      "outputs": [
        {
          "output_type": "stream",
          "text": [
            "     Sales_in_thousands  ...  Vehicle_type_Passenger\n",
            "0                16.919  ...                       1\n",
            "1                39.384  ...                       1\n",
            "2                14.114  ...                       1\n",
            "3                 8.588  ...                       1\n",
            "4                20.397  ...                       1\n",
            "..                  ...  ...                     ...\n",
            "151               3.545  ...                       1\n",
            "152              15.245  ...                       1\n",
            "153              17.531  ...                       1\n",
            "154               3.493  ...                       1\n",
            "155              18.969  ...                       1\n",
            "\n",
            "[156 rows x 13 columns]\n"
          ],
          "name": "stdout"
        }
      ]
    },
    {
      "cell_type": "markdown",
      "metadata": {
        "id": "yRywFEy6osvv",
        "colab_type": "text"
      },
      "source": [
        "### Q 6. Write code to standardize the variable for model building (return value will be numpy.ndarray)."
      ]
    },
    {
      "cell_type": "code",
      "metadata": {
        "id": "je1DEq41osvx",
        "colab_type": "code",
        "colab": {
          "base_uri": "https://localhost:8080/",
          "height": 51
        },
        "outputId": "f1032b9d-f3d7-4bde-925e-877d3df8cf45"
      },
      "source": [
        "std = pd.DataFrame()\n",
        "car_modify = car_dummy.drop(car_dummy[['Sales_in_thousands']], axis=1)\n",
        "def lr(car_modify):\n",
        "    from sklearn.preprocessing import StandardScaler\n",
        "    # code to scale the variables\n",
        "    scalar = StandardScaler().fit(car_modify)\n",
        "    #print(scalar)\n",
        "    st = scalar.transform(car_modify)\n",
        "    #print(st)\n",
        "    # code to transform the variables and standardize them\n",
        "    return st# your created variable\n",
        "std = lr(car_modify)\n",
        "print(std[1])"
      ],
      "execution_count": 7,
      "outputs": [
        {
          "output_type": "stream",
          "text": [
            "[ 0.18033873  0.07005147  0.13358557  0.69094938  0.08045672 -0.24703626\n",
            "  0.41500948  0.21770203 -0.19402264  0.27500229  0.56959669  0.58722022]\n"
          ],
          "name": "stdout"
        }
      ]
    },
    {
      "cell_type": "markdown",
      "metadata": {
        "id": "MRfAkPISosv1",
        "colab_type": "text"
      },
      "source": [
        "### Q 7. Write a code to create a DataFrame from the standardized value calculated above"
      ]
    },
    {
      "cell_type": "markdown",
      "metadata": {
        "id": "xlKVsCUTosv3",
        "colab_type": "text"
      },
      "source": [
        "### Since the standardized value is a numpy array, add the data to a dataframe with column header as mentioned below in the same order\n",
        "\n",
        "```['_year_resale_value','Price_in_thousands','Engine_size','Horsepower','Wheelbase','Width','Length','Curb_weight','Fuel_capacity','Fuel_efficiency','Power_perf_factor','Vehicle_type_Passenger'] ```"
      ]
    },
    {
      "cell_type": "code",
      "metadata": {
        "id": "UYtrQUhiosv5",
        "colab_type": "code",
        "colab": {}
      },
      "source": [
        "columns = ['_year_resale_value','Price_in_thousands','Engine_size','Horsepower','Wheelbase','Width','Length','Curb_weight','Fuel_capacity','Fuel_efficiency','Power_perf_factor','Vehicle_type_Passenger']\n",
        "def lr(std):\n",
        "    cars = pd.DataFrame(std)\n",
        "    cars.columns = columns\n",
        "    #cars = 'null'\n",
        "    # create a dataframe cars for the numpy array\n",
        "    # assign the column headers with the columns mentioned above\n",
        "    return cars\n",
        "cars = lr(std)"
      ],
      "execution_count": 0,
      "outputs": []
    },
    {
      "cell_type": "markdown",
      "metadata": {
        "id": "9HQsq9sSosv_",
        "colab_type": "text"
      },
      "source": [
        "### Q 8: Now since all variable may not be of use, please extract only the following variables for training. Preparing X (independent features) for the model building.\n",
        "\n",
        "```['Price_in_thousands','Engine_size','Wheelbase','Fuel_efficiency','Vehicle_type_Passenger']```"
      ]
    },
    {
      "cell_type": "code",
      "metadata": {
        "id": "Ev9a8c9eoswA",
        "colab_type": "code",
        "colab": {
          "base_uri": "https://localhost:8080/",
          "height": 255
        },
        "outputId": "1516e00f-a474-4a9d-9e9c-0075fb3a77ef"
      },
      "source": [
        "X = pd.DataFrame()\n",
        "feature_cols = ['Price_in_thousands','Engine_size','Wheelbase','Fuel_efficiency','Vehicle_type_Passenger']                \n",
        "def lr(cars):\n",
        "    # assign values of fature_cols to X\n",
        "    X = cars[feature_cols]\n",
        "    return X\n",
        "X = lr(cars)\n",
        "print(X)"
      ],
      "execution_count": 10,
      "outputs": [
        {
          "output_type": "stream",
          "text": [
            "     Price_in_thousands  Engine_size  ...  Fuel_efficiency  Vehicle_type_Passenger\n",
            "0             -0.413822    -1.210889  ...         0.982151                 0.58722\n",
            "1              0.070051     0.133586  ...         0.275002                 0.58722\n",
            "2              0.112127     0.133586  ...         0.510719                 0.58722\n",
            "3              1.023772     0.421687  ...        -0.432146                 0.58722\n",
            "4             -0.239207    -1.210889  ...         0.746435                 0.58722\n",
            "..                  ...          ...  ...              ...                     ...\n",
            "151           -0.210455    -1.114855  ...         0.275002                 0.58722\n",
            "152            0.006938    -0.634685  ...         0.275002                 0.58722\n",
            "153            0.098102    -0.634685  ...         0.275002                 0.58722\n",
            "154            1.269215    -0.730719  ...        -0.196430                 0.58722\n",
            "155            0.603013    -0.154516  ...         0.039286                 0.58722\n",
            "\n",
            "[156 rows x 5 columns]\n"
          ],
          "name": "stdout"
        }
      ]
    },
    {
      "cell_type": "markdown",
      "metadata": {
        "id": "UGHp4cIsoswE",
        "colab_type": "text"
      },
      "source": [
        "### Check for the type and shape of X."
      ]
    },
    {
      "cell_type": "code",
      "metadata": {
        "id": "_yrDintJoswF",
        "colab_type": "code",
        "colab": {
          "base_uri": "https://localhost:8080/",
          "height": 51
        },
        "outputId": "118214f7-8a6f-43c3-b4e2-d1e5f5663e48"
      },
      "source": [
        "def lr():\n",
        "    print(type(X))\n",
        "    print(X.shape)\n",
        "lr()"
      ],
      "execution_count": 11,
      "outputs": [
        {
          "output_type": "stream",
          "text": [
            "<class 'pandas.core.frame.DataFrame'>\n",
            "(156, 5)\n"
          ],
          "name": "stdout"
        }
      ]
    },
    {
      "cell_type": "markdown",
      "metadata": {
        "id": "zil10KA6oswK",
        "colab_type": "text"
      },
      "source": [
        "### Q 9. Extract y (dependent variable) for model building.\n",
        "```['Sales_in_thousands']```"
      ]
    },
    {
      "cell_type": "code",
      "metadata": {
        "id": "vfeE2zsZoswM",
        "colab_type": "code",
        "colab": {
          "base_uri": "https://localhost:8080/",
          "height": 119
        },
        "outputId": "5a77e7cd-77df-4b22-f10e-ecb4adce994a"
      },
      "source": [
        "y = pd.DataFrame()\n",
        "def lr(car_dummy):\n",
        "    # assign the dependent variable to y dataframe\n",
        "    y = car_dummy['Sales_in_thousands']\n",
        "    return y#your dataframe\n",
        "y = lr(car_dummy)\n",
        "print(y.head())"
      ],
      "execution_count": 12,
      "outputs": [
        {
          "output_type": "stream",
          "text": [
            "0    16.919\n",
            "1    39.384\n",
            "2    14.114\n",
            "3     8.588\n",
            "4    20.397\n",
            "Name: Sales_in_thousands, dtype: float64\n"
          ],
          "name": "stdout"
        }
      ]
    },
    {
      "cell_type": "markdown",
      "metadata": {
        "id": "k-UCaklgoswQ",
        "colab_type": "text"
      },
      "source": [
        "### Check for the type and shape of y. "
      ]
    },
    {
      "cell_type": "code",
      "metadata": {
        "id": "9HQukzDUoswR",
        "colab_type": "code",
        "colab": {
          "base_uri": "https://localhost:8080/",
          "height": 51
        },
        "outputId": "658b01cd-bb00-418e-e804-a6a23cff0a39"
      },
      "source": [
        "def lr():\n",
        "    print(type(y))\n",
        "    print(y.shape)\n",
        "lr()"
      ],
      "execution_count": 13,
      "outputs": [
        {
          "output_type": "stream",
          "text": [
            "<class 'pandas.core.series.Series'>\n",
            "(156,)\n"
          ],
          "name": "stdout"
        }
      ]
    },
    {
      "cell_type": "markdown",
      "metadata": {
        "id": "_1ije0GPoswY",
        "colab_type": "text"
      },
      "source": [
        "<a id=section403></a>"
      ]
    },
    {
      "cell_type": "markdown",
      "metadata": {
        "id": "Sl-1mLgXoswa",
        "colab_type": "text"
      },
      "source": [
        "### Q 10. Split the value of X and y into train and test datasets."
      ]
    },
    {
      "cell_type": "code",
      "metadata": {
        "id": "mNcgTcEGoswe",
        "colab_type": "code",
        "colab": {}
      },
      "source": [
        "from sklearn.model_selection import train_test_split\n",
        "def lr(X,y):\n",
        "\n",
        "    return train_test_split(X, y, test_size=0.30, random_state=1) # train test split using train test split of 70:30 and random state=1\n",
        "X_train, X_test, y_train, y_test = lr(X,y)"
      ],
      "execution_count": 0,
      "outputs": []
    },
    {
      "cell_type": "markdown",
      "metadata": {
        "id": "zqmxQO3joswl",
        "colab_type": "text"
      },
      "source": [
        "### Check the shape of  X and y of train dataset."
      ]
    },
    {
      "cell_type": "code",
      "metadata": {
        "id": "1noxAvhWoswm",
        "colab_type": "code",
        "colab": {
          "base_uri": "https://localhost:8080/",
          "height": 51
        },
        "outputId": "aac77357-8f18-440b-d9dc-889f797ce25e"
      },
      "source": [
        "def lr():\n",
        "    print(X_train.shape)\n",
        "    print(y_train.shape)\n",
        "lr()"
      ],
      "execution_count": 20,
      "outputs": [
        {
          "output_type": "stream",
          "text": [
            "(109, 5)\n",
            "(109,)\n"
          ],
          "name": "stdout"
        }
      ]
    },
    {
      "cell_type": "markdown",
      "metadata": {
        "id": "sb6zHsTdoswq",
        "colab_type": "text"
      },
      "source": [
        "### Check the shape of X and y of test dataset."
      ]
    },
    {
      "cell_type": "code",
      "metadata": {
        "id": "5PH9n8x9osws",
        "colab_type": "code",
        "colab": {
          "base_uri": "https://localhost:8080/",
          "height": 51
        },
        "outputId": "1cd13049-135a-47c5-f2ae-c32978b85f82"
      },
      "source": [
        "def lr():\n",
        "    print(X_test.shape)\n",
        "    print(y_test.shape)\n",
        "lr()"
      ],
      "execution_count": 21,
      "outputs": [
        {
          "output_type": "stream",
          "text": [
            "(47, 5)\n",
            "(47,)\n"
          ],
          "name": "stdout"
        }
      ]
    },
    {
      "cell_type": "markdown",
      "metadata": {
        "id": "Iq-QRMMWoswv",
        "colab_type": "text"
      },
      "source": [
        "<a id=section404></a>"
      ]
    },
    {
      "cell_type": "markdown",
      "metadata": {
        "id": "PjtxRQvEoswx",
        "colab_type": "text"
      },
      "source": [
        "### Q 11. Instantiate Linear regression model using scikit-learn"
      ]
    },
    {
      "cell_type": "code",
      "metadata": {
        "id": "y5urw87Noswy",
        "colab_type": "code",
        "colab": {}
      },
      "source": [
        "from sklearn.linear_model import LinearRegression\n",
        "def lr():\n",
        "    #initiate the linear regression model to new variable linreg\n",
        "    return linreg\n",
        "linreg = lr()"
      ],
      "execution_count": 0,
      "outputs": []
    },
    {
      "cell_type": "markdown",
      "metadata": {
        "id": "atoHWUcUosw1",
        "colab_type": "text"
      },
      "source": [
        "### Q12. Fit the linear model on X_train and y_train."
      ]
    },
    {
      "cell_type": "code",
      "metadata": {
        "id": "MJgTpUS9osw3",
        "colab_type": "code",
        "colab": {}
      },
      "source": [
        "def lr():\n",
        "    # fit the X_train and y_train\n",
        "    # We don't expect any return from your side.\n",
        "lr()"
      ],
      "execution_count": 0,
      "outputs": []
    },
    {
      "cell_type": "markdown",
      "metadata": {
        "id": "SCwjY_wnosw7",
        "colab_type": "text"
      },
      "source": [
        "<a id=section405></a>"
      ]
    },
    {
      "cell_type": "markdown",
      "metadata": {
        "id": "pJSFj9Sposw8",
        "colab_type": "text"
      },
      "source": [
        "### Q 13. Interpret the Model Coefficients."
      ]
    },
    {
      "cell_type": "code",
      "metadata": {
        "id": "yz-O_fJ3osw9",
        "colab_type": "code",
        "colab": {}
      },
      "source": [
        "def lr():\n",
        "    # print the linreg.intercet\n",
        "    # print the linreg.coefficient\n",
        "lr()"
      ],
      "execution_count": 0,
      "outputs": []
    },
    {
      "cell_type": "markdown",
      "metadata": {
        "id": "ddF5hqkbosxB",
        "colab_type": "text"
      },
      "source": [
        "### Q.14 Zip the features to pair the feature names with the coefficients."
      ]
    },
    {
      "cell_type": "code",
      "metadata": {
        "id": "MaCbAxJ1osxC",
        "colab_type": "code",
        "colab": {}
      },
      "source": [
        "def lr():\n",
        "    # insert Intercept variable with the feature_cols\n",
        "    # make a list using linreg.coef\n",
        "    # insert the intercept value respectively\n",
        "    # creating a variable to zip feature_cols and their coef.\n",
        "    # use for loop the get the value of feature_cols and their coef\n",
        "        # print the above values\n",
        "lr()"
      ],
      "execution_count": 0,
      "outputs": []
    },
    {
      "cell_type": "markdown",
      "metadata": {
        "id": "zC00XwHjosxG",
        "colab_type": "text"
      },
      "source": [
        "###  Q 15. Predict the train value using the built model."
      ]
    },
    {
      "cell_type": "code",
      "metadata": {
        "id": "q5fYkKV6osxI",
        "colab_type": "code",
        "colab": {}
      },
      "source": [
        "y_pred_train = linreg.predict(X_train)\n",
        "pred= pd.DataFrame(y_pred_train)\n",
        "def lr():  \n",
        "    # provide column header as sales for pred\n",
        "    # check for head \n",
        "    return head\n",
        "lr()"
      ],
      "execution_count": 0,
      "outputs": []
    },
    {
      "cell_type": "markdown",
      "metadata": {
        "id": "lF2gaNEGosxO",
        "colab_type": "text"
      },
      "source": [
        "### Q 16. Predict the test value using the built model."
      ]
    },
    {
      "cell_type": "code",
      "metadata": {
        "id": "cytHkY4iosxP",
        "colab_type": "code",
        "colab": {}
      },
      "source": [
        "y_pred_test = linreg.predict(X_test)    \n",
        "pred_test= pd.DataFrame(y_pred_test)\n",
        "def lr():\n",
        "    # provide column header as sales for pred\n",
        "    # check for head \n",
        "    return head\n",
        "lr()"
      ],
      "execution_count": 0,
      "outputs": []
    },
    {
      "cell_type": "markdown",
      "metadata": {
        "id": "B4IjH5cYosxV",
        "colab_type": "text"
      },
      "source": [
        "<a id=section406></a>"
      ]
    },
    {
      "cell_type": "markdown",
      "metadata": {
        "id": "qPMD-RyaosxW",
        "colab_type": "text"
      },
      "source": [
        "### Q 17 Evaluate the model using Mean Absolute Error metrics for both train and test."
      ]
    },
    {
      "cell_type": "code",
      "metadata": {
        "id": "EQDoPSrfosxX",
        "colab_type": "code",
        "colab": {}
      },
      "source": [
        "from sklearn import metrics\n",
        "def lr():\n",
        "    # Calculate MAE for train \n",
        "    # Calculate MAE for test \n",
        "    # print MAE for train\n",
        "    # print MAE for test\n",
        "lr()"
      ],
      "execution_count": 0,
      "outputs": []
    },
    {
      "cell_type": "markdown",
      "metadata": {
        "id": "hdrNWI-Gosxb",
        "colab_type": "text"
      },
      "source": [
        "### Q 18 Evaluate the model using Mean Squared Error for both train and test."
      ]
    },
    {
      "cell_type": "code",
      "metadata": {
        "id": "WhWL-IWjosxc",
        "colab_type": "code",
        "colab": {}
      },
      "source": [
        "def lr():\n",
        "    # Calculate MSE for train \n",
        "    # Calculate MSE for test \n",
        "    # print MSE for train\n",
        "    # print MSE for test\n",
        "lr()"
      ],
      "execution_count": 0,
      "outputs": []
    },
    {
      "cell_type": "markdown",
      "metadata": {
        "id": "Q9fu1IQ5osxf",
        "colab_type": "text"
      },
      "source": [
        "### Q 19 Evaluate the model using Root Mean Squared Error for both train and test."
      ]
    },
    {
      "cell_type": "code",
      "metadata": {
        "id": "uIaCZmI8osxi",
        "colab_type": "code",
        "colab": {}
      },
      "source": [
        "import numpy as np\n",
        "def lr():\n",
        "    # Calculate RMSE for train \n",
        "    # Calculate RMSE for test \n",
        "    # print RMSE for train\n",
        "    # print RMSE for test\n",
        "lr()"
      ],
      "execution_count": 0,
      "outputs": []
    },
    {
      "cell_type": "markdown",
      "metadata": {
        "id": "ddecUUvJosxm",
        "colab_type": "text"
      },
      "source": [
        "### Q 20. Evaluate the model using R-square value for both train and test."
      ]
    },
    {
      "cell_type": "code",
      "metadata": {
        "id": "UD9bIkd7osxo",
        "colab_type": "code",
        "colab": {}
      },
      "source": [
        "from sklearn.metrics import r2_score\n",
        "def lr():\n",
        "    # Calculate r2 for train \n",
        "    # Calculate r2 for test \n",
        "    # print r2 for train\n",
        "    # print r2 for test\n",
        "lr()"
      ],
      "execution_count": 0,
      "outputs": []
    }
  ]
}